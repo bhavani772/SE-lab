{
  "nbformat": 4,
  "nbformat_minor": 0,
  "metadata": {
    "colab": {
      "provenance": [],
      "authorship_tag": "ABX9TyPbsfAfPfIgvM/CHMHQUUxD",
      "include_colab_link": true
    },
    "kernelspec": {
      "name": "python3",
      "display_name": "Python 3"
    },
    "language_info": {
      "name": "python"
    }
  },
  "cells": [
    {
      "cell_type": "markdown",
      "metadata": {
        "id": "view-in-github",
        "colab_type": "text"
      },
      "source": [
        "<a href=\"https://colab.research.google.com/github/bhavani772/SE-lab/blob/main/aia_case_study.ipynb\" target=\"_parent\"><img src=\"https://colab.research.google.com/assets/colab-badge.svg\" alt=\"Open In Colab\"/></a>"
      ]
    },
    {
      "cell_type": "code",
      "source": [
        "import pandas as pd\n",
        "from sklearn.model_selection import train_test_split\n",
        "from sklearn.feature_extraction.text import TfidfVectorizer\n",
        "from sklearn.linear_model import LogisticRegression\n",
        "from sklearn.metrics import accuracy_score, precision_score, recall_score, f1_score\n",
        "\n",
        "# Read the data from the CSV file\n",
        "df = pd.read_csv('/content/test.csv')\n",
        "\n",
        "# Print the column names to debug\n",
        "print(\"Columns in the dataset:\", df.columns.tolist())\n",
        "\n",
        "# Check for missing values in the reviews\n",
        "print(\"Missing values in the dataset:\\n\", df.isnull().sum())\n",
        "\n",
        "# Use column \"2\" for labels (1 for bad, 2 for good)\n",
        "# Use the column \"Great CD\" for the first review\n",
        "# Use the third column for additional reviews\n",
        "df['review_text'] = df['Great CD'] + ' ' + df[df.columns[2]]\n",
        "\n",
        "# Handle missing values: fill NaN with an empty string\n",
        "df['review_text'].fillna('', inplace=True)\n",
        "\n",
        "# Convert labels from 1 and 2 to 'Negative' and 'Positive'\n",
        "df['sentiment'] = df['2'].replace({1: 'Negative', 2: 'Positive'})\n",
        "\n",
        "# Split the data into training and testing sets\n",
        "X_train, X_test, y_train, y_test = train_test_split(df['review_text'], df['sentiment'], test_size=0.2, random_state=42)\n",
        "\n",
        "# Create TF-IDF vectorizer\n",
        "vectorizer = TfidfVectorizer(max_features=5000)\n",
        "X_train_vectorized = vectorizer.fit_transform(X_train)\n",
        "X_test_vectorized = vectorizer.transform(X_test)\n",
        "\n",
        "# Create and train the Logistic Regression model\n",
        "model = LogisticRegression()\n",
        "model.fit(X_train_vectorized, y_train)\n",
        "\n",
        "# Make predictions on the test set\n",
        "y_pred = model.predict(X_test_vectorized)\n",
        "\n",
        "# Evaluate the model's performance\n",
        "accuracy = accuracy_score(y_test, y_pred)\n",
        "precision = precision_score(y_test, y_pred, average='weighted')\n",
        "recall = recall_score(y_test, y_pred, average='weighted')\n",
        "f1 = f1_score(y_test, y_pred, average='weighted')\n",
        "\n",
        "print(\"Accuracy:\", accuracy)\n",
        "print(\"Precision:\", precision)\n",
        "print(\"Recall:\", recall)\n",
        "print(\"F1-score:\", f1)\n",
        "\n",
        "# Function for predicting the sentiment of user input\n",
        "def classify_review():\n",
        "    while True:\n",
        "        new_review = input(\"Enter a review (or type 'exit' to quit): \")\n",
        "\n",
        "        if new_review.lower() == 'exit':\n",
        "            break\n",
        "\n",
        "        # Transform the new review\n",
        "        new_review_vectorized = vectorizer.transform([new_review])\n",
        "\n",
        "        # Predict sentiment\n",
        "        prediction = model.predict(new_review_vectorized)[0]\n",
        "\n",
        "        # Map the prediction back to 1 or 2\n",
        "        sentiment_label = 2 if prediction == 'Positive' else 1\n",
        "\n",
        "        print(f\"Predicted sentiment: {sentiment_label} ({'Good' if sentiment_label == 2 else 'Bad'})\")\n",
        "\n",
        "# Call the function to classify user reviews\n",
        "classify_review()\n"
      ],
      "metadata": {
        "colab": {
          "base_uri": "https://localhost:8080/"
        },
        "id": "0hPFXC1ptfPm",
        "outputId": "37e656a1-a99f-47dc-e817-0df216358f2a"
      },
      "execution_count": null,
      "outputs": [
        {
          "output_type": "stream",
          "name": "stdout",
          "text": [
            "Columns in the dataset: ['2', 'Great CD', 'My lovely Pat has one of the GREAT voices of her generation. I have listened to this CD for YEARS and I still LOVE IT. When I\\'m in a good mood it makes me feel better. A bad mood just evaporates like sugar in the rain. This CD just oozes LIFE. Vocals are jusat STUUNNING and lyrics just kill. One of life\\'s hidden gems. This is a desert isle CD in my book. Why she never made it big is just beyond me. Everytime I play this, no matter black, white, young, old, male, female EVERYBODY says one thing \"Who was that singing ?\"']\n",
            "Missing values in the dataset:\n",
            " 2                                                                                                                                                                                                                                                                                                                                                                                                                                                                                                                                               0\n",
            "Great CD                                                                                                                                                                                                                                                                                                                                                                                                                                                                                                                                       24\n",
            "My lovely Pat has one of the GREAT voices of her generation. I have listened to this CD for YEARS and I still LOVE IT. When I'm in a good mood it makes me feel better. A bad mood just evaporates like sugar in the rain. This CD just oozes LIFE. Vocals are jusat STUUNNING and lyrics just kill. One of life's hidden gems. This is a desert isle CD in my book. Why she never made it big is just beyond me. Everytime I play this, no matter black, white, young, old, male, female EVERYBODY says one thing \"Who was that singing ?\"     0\n",
            "dtype: int64\n"
          ]
        },
        {
          "output_type": "stream",
          "name": "stderr",
          "text": [
            "<ipython-input-7-13b9e8d12cbd>:22: FutureWarning: A value is trying to be set on a copy of a DataFrame or Series through chained assignment using an inplace method.\n",
            "The behavior will change in pandas 3.0. This inplace method will never work because the intermediate object on which we are setting values always behaves as a copy.\n",
            "\n",
            "For example, when doing 'df[col].method(value, inplace=True)', try using 'df.method({col: value}, inplace=True)' or df[col] = df[col].method(value) instead, to perform the operation inplace on the original object.\n",
            "\n",
            "\n",
            "  df['review_text'].fillna('', inplace=True)\n"
          ]
        },
        {
          "name": "stdout",
          "output_type": "stream",
          "text": [
            "Accuracy: 0.8973\n",
            "Precision: 0.8973000420601682\n",
            "Recall: 0.8973\n",
            "F1-score: 0.8973000159827563\n",
            "Enter a review (or type 'exit' to quit): EXIT\n"
          ]
        }
      ]
    }
  ]
}