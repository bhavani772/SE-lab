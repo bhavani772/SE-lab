{
  "nbformat": 4,
  "nbformat_minor": 0,
  "metadata": {
    "colab": {
      "provenance": [],
      "authorship_tag": "ABX9TyPAI+6krCsiWbLlTrtB5yTr",
      "include_colab_link": true
    },
    "kernelspec": {
      "name": "python3",
      "display_name": "Python 3"
    },
    "language_info": {
      "name": "python"
    }
  },
  "cells": [
    {
      "cell_type": "markdown",
      "metadata": {
        "id": "view-in-github",
        "colab_type": "text"
      },
      "source": [
        "<a href=\"https://colab.research.google.com/github/bhavani772/SE-lab/blob/main/quadratic.ipynb\" target=\"_parent\"><img src=\"https://colab.research.google.com/assets/colab-badge.svg\" alt=\"Open In Colab\"/></a>"
      ]
    },
    {
      "cell_type": "code",
      "execution_count": 1,
      "metadata": {
        "colab": {
          "base_uri": "https://localhost:8080/"
        },
        "id": "U2SJ3_KTxyYI",
        "outputId": "9fb031aa-d0b7-4327-866c-96ea8f1fc9d3"
      },
      "outputs": [
        {
          "output_type": "stream",
          "name": "stdout",
          "text": [
            "The result of the quadratic equation is y = 45\n"
          ]
        }
      ],
      "source": [
        "# Hardcoded variables for quadratic equation y = ax^2 + bx + c\n",
        "a = 2\n",
        "b = 3\n",
        "c = 1\n",
        "x = 4\n",
        "\n",
        "# Calculate the result of the quadratic equation\n",
        "y = a * x**2 + b * x + c\n",
        "\n",
        "print(f\"The result of the quadratic equation is y = {y}\")\n"
      ]
    },
    {
      "cell_type": "code",
      "source": [
        "# Get input from the user for a, b, c, and x\n",
        "a = float(input(\"Enter value for a: \"))\n",
        "b = float(input(\"Enter value for b: \"))\n",
        "c = float(input(\"Enter value for c: \"))\n",
        "x = float(input(\"Enter value for x: \"))\n",
        "\n",
        "# Calculate the result of the quadratic equation\n",
        "y = a * x**2 + b * x + c\n",
        "\n",
        "print(f\"The result of the quadratic equation is y = {y}\")\n"
      ],
      "metadata": {
        "colab": {
          "base_uri": "https://localhost:8080/"
        },
        "id": "a7DHbiUNx8Ic",
        "outputId": "b51af3d7-dd22-4218-d8bc-016dfffb2eac"
      },
      "execution_count": 3,
      "outputs": [
        {
          "output_type": "stream",
          "name": "stdout",
          "text": [
            "Enter value for a: 5\n",
            "Enter value for b: 6\n",
            "Enter value for c: 55\n",
            "Enter value for x: 5\n",
            "The result of the quadratic equation is y = 210.0\n"
          ]
        }
      ]
    },
    {
      "cell_type": "code",
      "source": [
        "# Read data from the file and process each set of values\n",
        "with open('input_data.txt', 'r') as file:\n",
        "    # Skip the header line\n",
        "    next(file)\n",
        "\n",
        "    for line in file:\n",
        "        # Extract the values from each line\n",
        "        a, b, c, x = map(float, line.split())\n",
        "\n",
        "        # Calculate the result of the quadratic equation\n",
        "        y = a * x**2 + b * x + c\n",
        "        print(f\"With a={a}, b={b}, c={c}, and x={x}, the result is y = {y}\")\n"
      ],
      "metadata": {
        "colab": {
          "base_uri": "https://localhost:8080/"
        },
        "id": "pvSEi8CgyByK",
        "outputId": "06173ab5-357a-41f2-8730-b5a4b362690c"
      },
      "execution_count": 4,
      "outputs": [
        {
          "output_type": "stream",
          "name": "stdout",
          "text": [
            "With a=34.0, b=4.0, c=6.0, and x=56.0, the result is y = 106854.0\n"
          ]
        }
      ]
    }
  ]
}