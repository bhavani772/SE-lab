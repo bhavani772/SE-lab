{
  "nbformat": 4,
  "nbformat_minor": 0,
  "metadata": {
    "colab": {
      "provenance": [],
      "authorship_tag": "ABX9TyNMPGWXICnRGwc2CxTAR3gk",
      "include_colab_link": true
    },
    "kernelspec": {
      "name": "python3",
      "display_name": "Python 3"
    },
    "language_info": {
      "name": "python"
    }
  },
  "cells": [
    {
      "cell_type": "markdown",
      "metadata": {
        "id": "view-in-github",
        "colab_type": "text"
      },
      "source": [
        "<a href=\"https://colab.research.google.com/github/bhavani772/SE-lab/blob/main/software_engineering_lab_1.ipynb\" target=\"_parent\"><img src=\"https://colab.research.google.com/assets/colab-badge.svg\" alt=\"Open In Colab\"/></a>"
      ]
    },
    {
      "cell_type": "code",
      "execution_count": null,
      "metadata": {
        "colab": {
          "base_uri": "https://localhost:8080/"
        },
        "id": "AB8tjZdEUT9m",
        "outputId": "ffacdafe-f4f3-4dbb-de3a-26dc33a90d16"
      },
      "outputs": [
        {
          "output_type": "stream",
          "name": "stdout",
          "text": [
            "For T=25°C, H=60%, W=10m/s, the calculated w is: 286.5\n"
          ]
        }
      ],
      "source": [
        "import math\n",
        "\n",
        "T = 25\n",
        "H = 60\n",
        "W = 10\n",
        "\n",
        "def calculate_w(T, H, W):\n",
        "    w = 0.5 * T**2 - 0.2 * H + 0.1 * W - 15\n",
        "    return w\n",
        "\n",
        "w = calculate_w(T, H, W)\n",
        "\n",
        "\n",
        "print(f\"For T={T}°C, H={H}%, W={W}m/s, the calculated w is: {w}\")\n",
        "\n"
      ]
    },
    {
      "cell_type": "markdown",
      "source": [
        "the above code will take input in the code and produces output using the formula w = 0.5 * T**2 - 0.2 * H + 0.1 * W - 15 where t is temperature h is humidity and W is wind speed"
      ],
      "metadata": {
        "id": "h584bqYwZDkW"
      }
    },
    {
      "cell_type": "code",
      "source": [
        "import math\n",
        "\n",
        "\n",
        "def calculate_w(T, H, W):\n",
        "    w = 0.5 * T**2 - 0.2 * H + 0.1 * W - 15\n",
        "    return w\n",
        "\n",
        "\n",
        "T = float(input(\"Enter temperature (T) in Celsius: \"))\n",
        "H = float(input(\"Enter humidity (H) in percentage: \"))\n",
        "W = float(input(\"Enter wind speed (W) in m/s: \"))\n",
        "\n",
        "\n",
        "w = calculate_w(T, H, W)\n",
        "\n",
        "print(f\"For T={T}°C, H={H}%, W={W}m/s, the calculated w is: {w}\")\n"
      ],
      "metadata": {
        "colab": {
          "base_uri": "https://localhost:8080/"
        },
        "id": "Azhsj4n5YpRu",
        "outputId": "00823266-d3c4-4b79-c445-342f0562a4fb"
      },
      "execution_count": null,
      "outputs": [
        {
          "output_type": "stream",
          "name": "stdout",
          "text": [
            "Enter temperature (T) in Celsius: 5\n",
            "Enter humidity (H) in percentage: 55\n",
            "Enter wind speed (W) in m/s: 414\n",
            "For T=5.0°C, H=55.0%, W=414.0m/s, the calculated w is: 27.900000000000006\n"
          ]
        }
      ]
    },
    {
      "cell_type": "markdown",
      "source": [
        "another update on the code is that above code will take user input and produces the desired output."
      ],
      "metadata": {
        "id": "iE6iX4MKZK8F"
      }
    },
    {
      "cell_type": "code",
      "source": [
        "import math\n",
        "\n",
        "def calculate_w(T, H, W):\n",
        "    w = 0.5 * T**2 - 0.2 * H + 0.1 * W - 15\n",
        "    return w\n",
        "\n",
        "\n",
        "with open(\"input_data.txt.txt\", \"r\") as file:\n",
        "    line = file.readline()\n",
        "    T, H, W = map(float, line.split())\n",
        "\n",
        "\n",
        "w = calculate_w(T, H, W)\n",
        "\n",
        "\n",
        "print(f\"For T={T}°C, H={H}%, W={W}m/s, the calculated w is: {w}\")\n"
      ],
      "metadata": {
        "colab": {
          "base_uri": "https://localhost:8080/"
        },
        "id": "6TWcS3BrZBvW",
        "outputId": "be4bec7c-c7dc-49ce-d6bf-84fe52f04d10"
      },
      "execution_count": null,
      "outputs": [
        {
          "output_type": "stream",
          "name": "stdout",
          "text": [
            "For T=25.0°C, H=60.0%, W=10.0m/s, the calculated w is: 286.5\n"
          ]
        }
      ]
    },
    {
      "cell_type": "markdown",
      "source": [
        "the above code will take file that has single input as input and produces output"
      ],
      "metadata": {
        "id": "MtW9ceyxZkmG"
      }
    },
    {
      "cell_type": "code",
      "source": [
        "import math\n",
        "\n",
        "\n",
        "def calculate_w(T, H, W):\n",
        "    w = 0.5 * T**2 - 0.2 * H + 0.1 * W - 15\n",
        "    return w\n",
        "\n",
        "\n",
        "with open(\"input_data.txt.txt\", \"r\") as file:\n",
        "    for line in file:\n",
        "        T, H, W = map(float, line.split())\n",
        "        w = calculate_w(T, H, W)\n",
        "        print(f\"For T={T}°C, H={H}%, W={W}m/s, the calculated w is: {w}\")\n",
        "\n",
        "\n"
      ],
      "metadata": {
        "colab": {
          "base_uri": "https://localhost:8080/"
        },
        "id": "Dl_LoK0gWD7K",
        "outputId": "3d1e2d97-15fc-4a3d-9f42-f8d05a9b6d41"
      },
      "execution_count": null,
      "outputs": [
        {
          "output_type": "stream",
          "name": "stdout",
          "text": [
            "For T=25.0°C, H=60.0%, W=10.0m/s, the calculated w is: 286.5\n",
            "For T=30.0°C, H=50.0%, W=15.0m/s, the calculated w is: 426.5\n",
            "For T=20.0°C, H=70.0%, W=12.0m/s, the calculated w is: 172.2\n"
          ]
        }
      ]
    },
    {
      "cell_type": "markdown",
      "source": [
        "the above code will take a file with multiple input sets and produces multiple outputs."
      ],
      "metadata": {
        "id": "9LJbz79nZstN"
      }
    }
  ]
}