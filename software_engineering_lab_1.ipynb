{
  "nbformat": 4,
  "nbformat_minor": 0,
  "metadata": {
    "colab": {
      "provenance": [],
      "authorship_tag": "ABX9TyMmKJL2dN1dJq7VZE6ZV7KM",
      "include_colab_link": true
    },
    "kernelspec": {
      "name": "python3",
      "display_name": "Python 3"
    },
    "language_info": {
      "name": "python"
    }
  },
  "cells": [
    {
      "cell_type": "markdown",
      "metadata": {
        "id": "view-in-github",
        "colab_type": "text"
      },
      "source": [
        "<a href=\"https://colab.research.google.com/github/bhavani772/SE-lab/blob/main/software_engineering_lab_1.ipynb\" target=\"_parent\"><img src=\"https://colab.research.google.com/assets/colab-badge.svg\" alt=\"Open In Colab\"/></a>"
      ]
    },
    {
      "cell_type": "code",
      "execution_count": 5,
      "metadata": {
        "colab": {
          "base_uri": "https://localhost:8080/"
        },
        "id": "AB8tjZdEUT9m",
        "outputId": "cdfd9af9-db72-45ac-8907-018244390dc7"
      },
      "outputs": [
        {
          "output_type": "stream",
          "name": "stdout",
          "text": [
            "For T=25°C, H=60%, W=10m/s, the calculated w is: 286.5\n"
          ]
        }
      ],
      "source": [
        "import math\n",
        "\n",
        "# Hard-coded variables for weather modeling equation\n",
        "T = 25  # Temperature in Celsius\n",
        "H = 60  # Humidity in percentage\n",
        "W = 10  # Wind speed in m/s\n",
        "\n",
        "# Function to calculate w\n",
        "def calculate_w(T, H, W):\n",
        "    w = 0.5 * T**2 - 0.2 * H + 0.1 * W - 15\n",
        "    return w\n",
        "\n",
        "# Calculate w\n",
        "w = calculate_w(T, H, W)\n",
        "\n",
        "# Output the result\n",
        "print(f\"For T={T}°C, H={H}%, W={W}m/s, the calculated w is: {w}\")\n"
      ]
    },
    {
      "cell_type": "markdown",
      "source": [
        "the above code will take input in the code and produces output using the formula w = 0.5 * T**2 - 0.2 * H + 0.1 * W - 15 where t is temperature h is humidity and W is wind speed"
      ],
      "metadata": {
        "id": "h584bqYwZDkW"
      }
    },
    {
      "cell_type": "code",
      "source": [
        "import math\n",
        "\n",
        "# Function to calculate w\n",
        "def calculate_w(T, H, W):\n",
        "    w = 0.5 * T**2 - 0.2 * H + 0.1 * W - 15\n",
        "    return w\n",
        "\n",
        "# Get user input for temperature, humidity, and wind speed\n",
        "T = float(input(\"Enter temperature (T) in Celsius: \"))\n",
        "H = float(input(\"Enter humidity (H) in percentage: \"))\n",
        "W = float(input(\"Enter wind speed (W) in m/s: \"))\n",
        "\n",
        "# Calculate w\n",
        "w = calculate_w(T, H, W)\n",
        "\n",
        "# Output the result\n",
        "print(f\"For T={T}°C, H={H}%, W={W}m/s, the calculated w is: {w}\")\n"
      ],
      "metadata": {
        "colab": {
          "base_uri": "https://localhost:8080/"
        },
        "id": "Azhsj4n5YpRu",
        "outputId": "e675fadf-fdb9-4d0d-951a-5a83979b4e13"
      },
      "execution_count": 9,
      "outputs": [
        {
          "output_type": "stream",
          "name": "stdout",
          "text": [
            "Enter temperature (T) in Celsius: 35\n",
            "Enter humidity (H) in percentage: 75\n",
            "Enter wind speed (W) in m/s: 30\n",
            "For T=35.0°C, H=75.0%, W=30.0m/s, the calculated w is: 585.5\n"
          ]
        }
      ]
    },
    {
      "cell_type": "markdown",
      "source": [
        "another update on the code is that above code will take user input and produces the desired output."
      ],
      "metadata": {
        "id": "iE6iX4MKZK8F"
      }
    },
    {
      "cell_type": "code",
      "source": [
        "import math\n",
        "\n",
        "# Function to calculate w\n",
        "def calculate_w(T, H, W):\n",
        "    w = 0.5 * T**2 - 0.2 * H + 0.1 * W - 15\n",
        "    return w\n",
        "\n",
        "# Read input from file\n",
        "with open(\"input(10).txt\", \"r\") as file:\n",
        "    line = file.readline()  # Read the first line\n",
        "    T, H, W = map(float, line.split())  # Split and convert the values to float\n",
        "\n",
        "# Calculate w\n",
        "w = calculate_w(T, H, W)\n",
        "\n",
        "# Output the result\n",
        "print(f\"For T={T}°C, H={H}%, W={W}m/s, the calculated w is: {w}\")\n"
      ],
      "metadata": {
        "colab": {
          "base_uri": "https://localhost:8080/"
        },
        "id": "6TWcS3BrZBvW",
        "outputId": "c0217dbb-d7a7-4761-aee1-bd3b97eaae70"
      },
      "execution_count": 10,
      "outputs": [
        {
          "output_type": "stream",
          "name": "stdout",
          "text": [
            "For T=25.0°C, H=60.0%, W=10.0m/s, the calculated w is: 286.5\n"
          ]
        }
      ]
    },
    {
      "cell_type": "markdown",
      "source": [
        "the above code will take file that has single input as input and produces output"
      ],
      "metadata": {
        "id": "MtW9ceyxZkmG"
      }
    },
    {
      "cell_type": "code",
      "source": [
        "import math\n",
        "\n",
        "# Function to calculate w\n",
        "def calculate_w(T, H, W):\n",
        "    w = 0.5 * T**2 - 0.2 * H + 0.1 * W - 15\n",
        "    return w\n",
        "\n",
        "# Read input from file\n",
        "with open(\"whether.txt\", \"r\") as file:\n",
        "    for line in file:\n",
        "        T, H, W = map(float, line.split())  # Split and convert the values to float\n",
        "        w = calculate_w(T, H, W)  # Calculate w\n",
        "        print(f\"For T={T}°C, H={H}%, W={W}m/s, the calculated w is: {w}\")\n",
        "\n",
        "\n"
      ],
      "metadata": {
        "colab": {
          "base_uri": "https://localhost:8080/"
        },
        "id": "Dl_LoK0gWD7K",
        "outputId": "467491b7-4396-4a48-99f3-54a6180eeafa"
      },
      "execution_count": 8,
      "outputs": [
        {
          "output_type": "stream",
          "name": "stdout",
          "text": [
            "For T=1.0°C, H=-5.0%, W=6.0m/s, the calculated w is: -12.9\n",
            "For T=2.0°C, H=3.0%, W=-5.0m/s, the calculated w is: -14.1\n",
            "For T=1.0°C, H=-2.0%, W=1.0m/s, the calculated w is: -14.0\n",
            "For T=-1.0°C, H=4.0%, W=4.0m/s, the calculated w is: -14.9\n",
            "For T=3.0°C, H=-12.0%, W=9.0m/s, the calculated w is: -7.199999999999999\n"
          ]
        }
      ]
    },
    {
      "cell_type": "markdown",
      "source": [
        "the above code will take a file with multiple input sets and produces multiple outputs."
      ],
      "metadata": {
        "id": "9LJbz79nZstN"
      }
    }
  ]
}