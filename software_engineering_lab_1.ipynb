{
  "nbformat": 4,
  "nbformat_minor": 0,
  "metadata": {
    "colab": {
      "provenance": [],
      "authorship_tag": "ABX9TyObYWPlwkrixleLeRPOuY8n",
      "include_colab_link": true
    },
    "kernelspec": {
      "name": "python3",
      "display_name": "Python 3"
    },
    "language_info": {
      "name": "python"
    }
  },
  "cells": [
    {
      "cell_type": "markdown",
      "metadata": {
        "id": "view-in-github",
        "colab_type": "text"
      },
      "source": [
        "<a href=\"https://colab.research.google.com/github/bhavani772/SE-lab/blob/main/software_engineering_lab_1.ipynb\" target=\"_parent\"><img src=\"https://colab.research.google.com/assets/colab-badge.svg\" alt=\"Open In Colab\"/></a>"
      ]
    },
    {
      "cell_type": "code",
      "execution_count": 9,
      "metadata": {
        "colab": {
          "base_uri": "https://localhost:8080/"
        },
        "id": "AB8tjZdEUT9m",
        "outputId": "b4da8012-6420-42a3-ee63-d204a11b7a74"
      },
      "outputs": [
        {
          "output_type": "stream",
          "name": "stdout",
          "text": [
            "Stage 1: Hard-coding variables\n",
            "Weather Prediction: Stormy\n",
            "Calculated Weather Value (W): 286.50\n",
            "\n"
          ]
        }
      ],
      "source": [
        "def calculate_weather(temperature, humidity, wind_speed):\n",
        "    W = 0.5 * temperature**2 - 0.2 * humidity + 0.1 * wind_speed - 15\n",
        "    return W\n",
        "\n",
        "def map_to_category(W):\n",
        "    if W > 10000:\n",
        "        return \"Sunny\"\n",
        "    elif 2000 <= W <= 10000:\n",
        "        return \"Cloudy\"\n",
        "    elif 500 <= W < 2000:\n",
        "        return \"Rainy\"\n",
        "    else:\n",
        "        return \"Stormy\"\n",
        "\n",
        "def stage_1_hard_coding():\n",
        "    print(\"Stage 1: Hard-coding variables\")\n",
        "    temperature = 25  # °C\n",
        "    humidity = 60     # %\n",
        "    wind_speed = 10   # km/h\n",
        "    W = calculate_weather(temperature, humidity, wind_speed)\n",
        "    weather_category = map_to_category(W)\n",
        "    print(f\"Weather Prediction: {weather_category}\")\n",
        "    print(f\"Calculated Weather Value (W): {W:.2f}\\n\")\n",
        "\n",
        "stage_1_hard_coding()\n",
        "\n",
        "\n"
      ]
    },
    {
      "cell_type": "markdown",
      "source": [
        "the above code will take input in the code and produces output using the formula w = 0.5 * T**2 - 0.2 * H + 0.1 * W - 15 where t is temperature h is humidity and W is wind speed"
      ],
      "metadata": {
        "id": "h584bqYwZDkW"
      }
    },
    {
      "cell_type": "code",
      "source": [
        "def stage_2_keyboard_input():\n",
        "    print(\"Stage 2: Keyboard input\")\n",
        "    temperature = float(input(\"Enter the temperature (°C): \"))\n",
        "    humidity = float(input(\"Enter the humidity (%): \"))\n",
        "    wind_speed = float(input(\"Enter the wind speed (km/h): \"))\n",
        "    W = calculate_weather(temperature, humidity, wind_speed)\n",
        "    weather_category = map_to_category(W)\n",
        "    print(f\"Weather Prediction: {weather_category}\")\n",
        "    print(f\"Calculated Weather Value (W): {W:.2f}\\n\")\n",
        "\n",
        "stage_2_keyboard_input()\n",
        "\n"
      ],
      "metadata": {
        "colab": {
          "base_uri": "https://localhost:8080/"
        },
        "id": "Azhsj4n5YpRu",
        "outputId": "859c3f72-f709-46be-f5e9-604e6ce7ca6c"
      },
      "execution_count": 11,
      "outputs": [
        {
          "output_type": "stream",
          "name": "stdout",
          "text": [
            "Stage 2: Keyboard input\n",
            "Enter the temperature (°C): 35\n",
            "Enter the humidity (%): 75\n",
            "Enter the wind speed (km/h): 33\n",
            "Weather Prediction: Rainy\n",
            "Calculated Weather Value (W): 585.80\n",
            "\n"
          ]
        }
      ]
    },
    {
      "cell_type": "markdown",
      "source": [
        "another update on the code is that above code will take user input and produces the desired output."
      ],
      "metadata": {
        "id": "iE6iX4MKZK8F"
      }
    },
    {
      "cell_type": "code",
      "source": [
        "def process_file(input_file):\n",
        "    print(\"Stage 3: Reading from file\")\n",
        "    try:\n",
        "        with open(input_file, 'r') as file:\n",
        "            for line in file:\n",
        "                if line.strip():\n",
        "                    try:\n",
        "                        temperature, humidity, wind_speed = map(float, line.split())\n",
        "                        W = calculate_weather(temperature, humidity, wind_speed)\n",
        "                        weather_category = map_to_category(W)\n",
        "                        print(f\"Temperature: {temperature}°C, Humidity: {humidity}%, Wind Speed: {wind_speed} km/h\")\n",
        "                        print(f\"Weather Prediction: {weather_category}\")\n",
        "                        print(f\"Calculated Weather Value (W): {W:.2f}\\n\")\n",
        "                    except ValueError:\n",
        "                        print(f\"Skipping invalid line: {line.strip()}\")\n",
        "    except FileNotFoundError:\n",
        "        print(f\"Error: The file '{input_file}' was not found.\")\n",
        "\n",
        "process_file(\"input_data.txt\")\n",
        "\n",
        "\n"
      ],
      "metadata": {
        "colab": {
          "base_uri": "https://localhost:8080/"
        },
        "id": "6TWcS3BrZBvW",
        "outputId": "e5cb26b3-ee3c-4a9d-c297-5314e6636a02"
      },
      "execution_count": 20,
      "outputs": [
        {
          "output_type": "stream",
          "name": "stdout",
          "text": [
            "Stage 3: Reading from file\n",
            "Temperature: 25.0°C, Humidity: 60.0%, Wind Speed: 10.0 km/h\n",
            "Weather Prediction: Stormy\n",
            "Calculated Weather Value (W): 286.50\n",
            "\n",
            "Temperature: 30.0°C, Humidity: 50.0%, Wind Speed: 15.0 km/h\n",
            "Weather Prediction: Stormy\n",
            "Calculated Weather Value (W): 426.50\n",
            "\n",
            "Temperature: 20.0°C, Humidity: 70.0%, Wind Speed: 12.0 km/h\n",
            "Weather Prediction: Stormy\n",
            "Calculated Weather Value (W): 172.20\n",
            "\n"
          ]
        }
      ]
    },
    {
      "cell_type": "code",
      "source": [
        "def stage_4_single_input_from_file(input_file):\n",
        "    print(\"Stage 4: Processing a single set of input from file\")\n",
        "    try:\n",
        "        with open(input_file, 'r') as file:\n",
        "            line = file.readline()\n",
        "            if line.strip():\n",
        "                try:\n",
        "                    temperature, humidity, wind_speed = map(float, line.split())\n",
        "                    W = calculate_weather(temperature, humidity, wind_speed)\n",
        "                    weather_category = map_to_category(W)\n",
        "                    print(f\"Temperature: {temperature}°C, Humidity: {humidity}%, Wind Speed: {wind_speed} km/h\")\n",
        "                    print(f\"Weather Prediction: {weather_category}\")\n",
        "                    print(f\"Calculated Weather Value (W): {W:.2f}\\n\")\n",
        "                except ValueError:\n",
        "                    print(f\"Skipping invalid line: {line.strip()}\")\n",
        "    except FileNotFoundError:\n",
        "        print(f\"Error: The file '{input_file}' was not found.\")\n",
        "\n",
        "stage_4_single_input_from_file(\"input_data.txt\")\n",
        "\n",
        "\n"
      ],
      "metadata": {
        "colab": {
          "base_uri": "https://localhost:8080/"
        },
        "id": "Dl_LoK0gWD7K",
        "outputId": "2ee92e0d-2f2a-4c9d-c42e-f549db5f5d45"
      },
      "execution_count": 22,
      "outputs": [
        {
          "output_type": "stream",
          "name": "stdout",
          "text": [
            "Stage 4: Processing a single set of input from file\n",
            "Temperature: 25.0°C, Humidity: 60.0%, Wind Speed: 10.0 km/h\n",
            "Weather Prediction: Stormy\n",
            "Calculated Weather Value (W): 286.50\n",
            "\n"
          ]
        }
      ]
    }
  ]
}